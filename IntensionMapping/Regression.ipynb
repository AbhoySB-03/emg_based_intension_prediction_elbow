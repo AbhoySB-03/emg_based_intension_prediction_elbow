{
 "cells": [
  {
   "cell_type": "markdown",
   "metadata": {},
   "source": [
    "# Load Global Libraries"
   ]
  },
  {
   "cell_type": "code",
   "execution_count": 3,
   "metadata": {},
   "outputs": [],
   "source": [
    "from signal_extraction import *\n",
    "from mlutils import *\n",
    "import os\n"
   ]
  },
  {
   "cell_type": "code",
   "execution_count": 4,
   "metadata": {},
   "outputs": [],
   "source": [
    "def torque_from_ang(ang):\n",
    "    m=1.12\n",
    "    l=0.15\n",
    "    g=9.81\n",
    "    return m*g*l*np.sin(ang*np.pi/180)"
   ]
  },
  {
   "cell_type": "markdown",
   "metadata": {},
   "source": [
    "# Load Data"
   ]
  },
  {
   "cell_type": "code",
   "execution_count": 5,
   "metadata": {},
   "outputs": [
    {
     "name": "stdout",
     "output_type": "stream",
     "text": [
      "(69506, 3) and (69506, 1)\n"
     ]
    }
   ],
   "source": [
    "subjects=os.listdir(BASE_EXTRACTION_PATH)\n",
    "Fs=2000\n",
    "init=False\n",
    "for s in subjects[:1]:\n",
    "    for f in range(2,3):\n",
    "        t, ang, emg=read_extracted_combined_data(s, f)\n",
    "        ang_dot=np.zeros(len(ang))\n",
    "        ang_dot[:-1]=(ang[1:]-ang[:-1])*Fs\n",
    "        ang_dot[-1]=ang_dot[-2]\n",
    "\n",
    "        if not init:\n",
    "            X_data=np.array(emg[:3])            \n",
    "            y_data=np.array(ang).reshape((1,len(ang)))\n",
    "            yv_data=np.array(ang_dot).reshape((1,len(ang_dot)))\n",
    "            init=True\n",
    "        else:\n",
    "            X_data=np.c_[X_data,np.array(emg[:3])]\n",
    "            y_data=np.c_[y_data,np.array(ang).reshape((1,len(ang)))]\n",
    "            yv_data=np.c_[yv_data,np.array(ang_dot).reshape((1,len(ang_dot)))]\n",
    "\n",
    "        y_data=torque_from_ang(y_data)\n",
    "\n",
    "X_data=X_data.T\n",
    "y_data=y_data.T\n",
    "yv_data=yv_data.T\n",
    "yt_data=0.4*9.8*0.25*np.sin(y_data)\n",
    "print(f'{X_data.shape} and {y_data.shape}')\n",
    "\n"
   ]
  },
  {
   "cell_type": "code",
   "execution_count": 6,
   "metadata": {},
   "outputs": [],
   "source": [
    "X=X_data\n",
    "y=y_data"
   ]
  },
  {
   "cell_type": "code",
   "execution_count": 7,
   "metadata": {},
   "outputs": [],
   "source": [
    "import matplotlib.pyplot as plt\n",
    "\n",
    "%matplotlib qt\n",
    "muscles=['Biceps Brachii', 'Triceps Lateral', 'Triceps Medial']\n",
    "for muscle_index in range(3):\n",
    "    plt.subplot(1,3,muscle_index+1)\n",
    "    plt.scatter(X_data[:,muscle_index], y_data[:,0])\n",
    "    plt.xlabel(f'{muscles[muscle_index]} Activation (% of MVC)')\n",
    "    plt.ylabel('Elbow Angle')"
   ]
  },
  {
   "cell_type": "code",
   "execution_count": 10,
   "metadata": {},
   "outputs": [
    {
     "data": {
      "text/plain": [
       "(52129, 3)"
      ]
     },
     "execution_count": 10,
     "metadata": {},
     "output_type": "execute_result"
    }
   ],
   "source": [
    "from sklearn.model_selection import train_test_split\n",
    "\n",
    "X_train, X_test, y_train, y_test= train_test_split(X,y)\n",
    "\n",
    "X_train.shape"
   ]
  },
  {
   "cell_type": "code",
   "execution_count": 11,
   "metadata": {},
   "outputs": [],
   "source": [
    "from sklearn.linear_model import LinearRegression\n",
    "\n",
    "class PolyRegression:\n",
    "    def __init__(self, powers=[1]):\n",
    "        self.powers=powers\n",
    "        self.model=LinearRegression()\n",
    "\n",
    "    def fit(self, X, y):\n",
    "        init=False\n",
    "        for p in self.powers:\n",
    "            if not init:\n",
    "                X=X**p\n",
    "                init=True\n",
    "            else:\n",
    "                X=np.c_[X,X**p]\n",
    "\n",
    "        self.model.fit(X,y)\n",
    "\n",
    "    def predict(self, X):\n",
    "        init=False\n",
    "        for p in self.powers:\n",
    "            if not init:\n",
    "                X=X**p\n",
    "                init=True\n",
    "            else:\n",
    "                X=np.c_[X,X**p]\n",
    "\n",
    "        return self.model.predict(X)\n"
   ]
  },
  {
   "cell_type": "code",
   "execution_count": 12,
   "metadata": {},
   "outputs": [
    {
     "name": "stdout",
     "output_type": "stream",
     "text": [
      "0.25059795537986246\n"
     ]
    }
   ],
   "source": [
    "from collections import Counter\n",
    "\n",
    "m=PolyRegression([4,3,2,1])\n",
    "m.fit(X_train, y_train)\n",
    "\n",
    "y_pred=m.predict(X_test)\n",
    "print(np.sqrt(np.mean((y_pred-y_test)**2)))"
   ]
  },
  {
   "cell_type": "code",
   "execution_count": 13,
   "metadata": {},
   "outputs": [
    {
     "data": {
      "text/plain": [
       "array([[-3.72935375e+06,  8.65885359e+12,  4.35783779e+08,\n",
       "         3.03384092e+11,  6.53908259e+07,  7.61527657e+06,\n",
       "        -1.40523907e+08, -4.18303349e+07, -3.90542869e+06,\n",
       "        -6.05389695e+03,  1.91111606e+08,  2.39948511e+06,\n",
       "         3.76630602e+06, -8.65885359e+12, -4.35783799e+08,\n",
       "         3.03384093e+11, -6.53922749e+07, -7.62251145e+06,\n",
       "        -1.40523769e+08,  4.18306529e+07,  3.90606258e+06,\n",
       "        -6.05422382e+03, -1.91072787e+08,  2.39969036e+06]])"
      ]
     },
     "execution_count": 13,
     "metadata": {},
     "output_type": "execute_result"
    }
   ],
   "source": [
    "m.model.coef_"
   ]
  },
  {
   "cell_type": "code",
   "execution_count": 14,
   "metadata": {},
   "outputs": [],
   "source": [
    "ranges=[np.linspace(0,0.125,100), np.linspace(0,0.6,100), np.linspace(0,0.5,100)]\n",
    "\n",
    "\n",
    "\n",
    "for i in range(3):\n",
    "    plt.subplot(1,3,i+1)\n",
    "    plt.scatter(X_data[:,i], y_data[:,0])\n",
    "    plt.xlabel(f'{muscles[i]} Activation (% of MVC)')\n",
    "    plt.ylabel('Elbow Angle')\n",
    "    x_plot=np.zeros((3,100))\n",
    "    x_plot[i,:]=ranges[i]\n",
    "    \n",
    "    y_plot=m.predict(x_plot.T)\n",
    "    plt.plot(ranges[i],y_plot)"
   ]
  },
  {
   "cell_type": "code",
   "execution_count": 16,
   "metadata": {},
   "outputs": [
    {
     "data": {
      "text/plain": [
       "Text(0.5, 1.0, 'All Subjects Same Activity')"
      ]
     },
     "execution_count": 16,
     "metadata": {},
     "output_type": "execute_result"
    }
   ],
   "source": [
    "import matplotlib.pyplot as plt\n",
    "t,angle, emg= read_extracted_combined_data('Abhoy',2)\n",
    "\n",
    "torque=torque_from_ang(angle)\n",
    "emg=np.array(emg[:3]).T\n",
    "\n",
    "ang_pred=m.predict(emg)\n",
    "plt.plot(t,torque, t, ang_pred)\n",
    "plt.legend(['Actual Angle', 'Predicted Angle'])\n",
    "plt.xlabel('Time')\n",
    "plt.ylabel('Angle')\n",
    "plt.title('All Subjects Same Activity')"
   ]
  }
 ],
 "metadata": {
  "kernelspec": {
   "display_name": "Python 3",
   "language": "python",
   "name": "python3"
  },
  "language_info": {
   "codemirror_mode": {
    "name": "ipython",
    "version": 3
   },
   "file_extension": ".py",
   "mimetype": "text/x-python",
   "name": "python",
   "nbconvert_exporter": "python",
   "pygments_lexer": "ipython3",
   "version": "3.8.3"
  }
 },
 "nbformat": 4,
 "nbformat_minor": 2
}
