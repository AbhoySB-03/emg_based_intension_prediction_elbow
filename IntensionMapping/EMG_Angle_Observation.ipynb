{
 "cells": [
  {
   "cell_type": "markdown",
   "metadata": {},
   "source": [
    "# Import Scripts and Libraries"
   ]
  },
  {
   "cell_type": "code",
   "execution_count": 2,
   "metadata": {},
   "outputs": [
    {
     "name": "stdout",
     "output_type": "stream",
     "text": [
      "Subjects:\n",
      "-->  Abhoy\n",
      "-->  Alok\n",
      "-->  Tushar\n"
     ]
    }
   ],
   "source": [
    "from signal_extraction import *\n",
    "from mlutils import *\n",
    "import os\n",
    "\n",
    "print('Subjects:')\n",
    "\n",
    "subject_names=os.listdir(BASE_EXTRACTION_PATH)\n",
    "for s in subject_names:\n",
    "    print('--> ',s)"
   ]
  },
  {
   "cell_type": "code",
   "execution_count": 7,
   "metadata": {},
   "outputs": [],
   "source": [
    "import matplotlib.pyplot as plt\n",
    "t, angle, emg = read_extracted_combined_data('Abhoy', 2)\n",
    "\n",
    "%matplotlib qt\n",
    "\n",
    "sl=slice(int(12.5*2000),int(12.8*2000))\n",
    "plt.subplot(4,1,1)\n",
    "plt.plot(t[sl], angle[sl])\n",
    "plt.grid(True)\n",
    "plt.xlabel('Time')\n",
    "plt.ylabel('Angle')\n",
    "\n",
    "muscles=['Biceps Brachii', 'Triceps Lateral', 'Triceps Medial']\n",
    "\n",
    "for i in range(3):\n",
    "    plt.subplot(4,1,2+i)\n",
    "    plt.plot(t[sl], emg[i][sl])\n",
    "    plt.grid(True)\n",
    "    plt.xlabel('Time')\n",
    "    plt.ylabel(muscles[i])\n",
    "\n",
    "\n"
   ]
  },
  {
   "cell_type": "code",
   "execution_count": 13,
   "metadata": {},
   "outputs": [],
   "source": [
    "img=np.array(emg[:3])[:3,int(12.5*2000):int(12.8*2000)]\n",
    "img=np.repeat(img,50,0)\n",
    "plt.imshow(img, cmap='gray', vmax=1, vmin=0)\n",
    "window=0.15\n",
    "\n"
   ]
  },
  {
   "cell_type": "markdown",
   "metadata": {},
   "source": [
    "# Generating Classifier Signal"
   ]
  },
  {
   "cell_type": "code",
   "execution_count": 30,
   "metadata": {},
   "outputs": [
    {
     "data": {
      "text/plain": [
       "<matplotlib.legend.Legend at 0x20f1ae14af0>"
      ]
     },
     "execution_count": 30,
     "metadata": {},
     "output_type": "execute_result"
    }
   ],
   "source": [
    "flex_ex=generate_classifier_signal(angle)\n",
    "\n",
    "\n",
    "plt.plot(t,angle*np.pi/180,t,flex_ex)\n",
    "plt.xlabel('Time')\n",
    "plt.legend(['Angle (rad)','Class'])\n"
   ]
  },
  {
   "cell_type": "code",
   "execution_count": 6,
   "metadata": {},
   "outputs": [],
   "source": [
    "muscles=['Biceps Brachii', 'Triceps Lateral', 'Triceps Medial']\n",
    "\n",
    "plt.subplot(4,1,1)\n",
    "plt.plot(t,angle*np.pi/180,t,flex_ex)\n",
    "plt.xlabel('Time')\n",
    "plt.legend(['Angle (rad)','Class'])\n",
    "\n",
    "for i in range(3):\n",
    "    plt.subplot(4,1,2+i)\n",
    "    plt.plot(t, emg[i])\n",
    "    plt.grid(True)\n",
    "    plt.xlabel('Time')\n",
    "    plt.ylabel('Activation RMS')\n",
    "    plt.legend([muscles[i]])"
   ]
  },
  {
   "cell_type": "code",
   "execution_count": 65,
   "metadata": {},
   "outputs": [],
   "source": [
    "import numpy as np\n",
    "import matplotlib.pyplot as plt\n",
    "import matplotlib.animation as animation\n",
    "\n",
    "# Example sequences\n",
    "fs = 2000  # Sampling frequency in Hz\n",
    "t = t\n",
    "s1 = emg[0]\n",
    "s2 = emg[1]\n",
    "s3=emg[2]\n",
    "s4=flex_ex\n",
    "# s3 = np.sin(2 * np.pi * t) * np.cos(2 * np.pi * t)\n",
    "\n",
    "time_step = 1 / fs  # Time between frames\n",
    "\n",
    "fig, axs = plt.subplots(4, 1, figsize=(10, 7))\n",
    "fig.waitforbuttonpress()\n",
    "# fig.tight_layout()\n",
    "xlabels=['Biceps Brachii', 'Triceps Lateral', 'Triceps Medial','Classifier']\n",
    "lines = []\n",
    "lims=((0,0.2),(0,0.5),(0,0.3),(-0.3,3.5))\n",
    "cols=['b','b','b','orange']\n",
    "def init():\n",
    "    for ax,xl,lim,col in zip(axs,xlabels,lims,cols):\n",
    "        line, = ax.plot([], [], col)\n",
    "        ax.set_xlim(0, len(t)/10)\n",
    "        ax.set_ylim(lim)\n",
    "        ax.set_ylabel(xl)\n",
    "        lines.append(line)\n",
    "    return lines\n",
    "\n",
    "def update(frame):\n",
    "    for i, data in enumerate([s1[::10], s2[::10],s3[::10],s4[::10]]):\n",
    "        lines[i].set_data(np.arange(frame+1), data[:frame+1])\n",
    "    return lines\n",
    "\n",
    "ani = animation.FuncAnimation(fig, update, frames=len(t), init_func=init, interval=time_step*1000, blit=True)\n",
    "plt.show()\n"
   ]
  },
  {
   "cell_type": "code",
   "execution_count": 49,
   "metadata": {},
   "outputs": [],
   "source": [
    "import numpy as np\n",
    "import matplotlib.pyplot as plt\n",
    "import matplotlib.animation as animation\n",
    "\n",
    "# Example sequences\n",
    "fs = 2000  # Sampling frequency in Hz\n",
    "t = t\n",
    "s1 = angle * np.pi/180\n",
    "s2 = flex_ex\n",
    "\n",
    "time_step = 1 / fs  # Time between frames\n",
    "\n",
    "fig, ax = plt.subplots(figsize=(15, 5))\n",
    "fig.waitforbuttonpress()\n",
    "lines = []\n",
    "colors = ['b', 'orange']\n",
    "labels = ['Angle', 'Classifier']\n",
    "\n",
    "def init():\n",
    "    for color, label in zip(colors, labels):\n",
    "        line, = ax.plot([], [],color,label=label)\n",
    "        lines.append(line)\n",
    "    ax.set_xlim(0, len(t)/10)\n",
    "    ax.set_ylim(-0.5, 3.5)\n",
    "    ax.set_xlabel('Samples')\n",
    "    ax.set_ylabel('Angle(in rads)/Class (0,1,2,3)')\n",
    "    ax.legend()\n",
    "    return lines\n",
    "\n",
    "def update(frame):\n",
    "    for i, data in enumerate([s1[::10], s2[::10]]):\n",
    "        lines[i].set_data(np.arange(frame+1), data[:frame+1])\n",
    "    return lines\n",
    "\n",
    "ani = animation.FuncAnimation(fig, update, frames=len(t), init_func=init, interval=time_step * 1000, blit=True)\n",
    "plt.show()\n"
   ]
  }
 ],
 "metadata": {
  "kernelspec": {
   "display_name": "Python 3",
   "language": "python",
   "name": "python3"
  },
  "language_info": {
   "codemirror_mode": {
    "name": "ipython",
    "version": 3
   },
   "file_extension": ".py",
   "mimetype": "text/x-python",
   "name": "python",
   "nbconvert_exporter": "python",
   "pygments_lexer": "ipython3",
   "version": "3.8.3"
  }
 },
 "nbformat": 4,
 "nbformat_minor": 2
}
